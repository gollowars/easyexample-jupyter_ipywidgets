{
 "cells": [
  {
   "cell_type": "code",
   "execution_count": 2,
   "metadata": {},
   "outputs": [
    {
     "data": {
      "application/vnd.jupyter.widget-view+json": {
       "model_id": "1701d38ee307447b83d5efdcf6814095",
       "version_major": 2,
       "version_minor": 0
      },
      "text/plain": [
       "VBox(children=(DatePicker(value=datetime.date(2023, 4, 20)), IntText(value=0, description='twitter : '), IntTe…"
      ]
     },
     "metadata": {},
     "output_type": "display_data"
    },
    {
     "data": {
      "text/html": [
       "<div>\n",
       "<style scoped>\n",
       "    .dataframe tbody tr th:only-of-type {\n",
       "        vertical-align: middle;\n",
       "    }\n",
       "\n",
       "    .dataframe tbody tr th {\n",
       "        vertical-align: top;\n",
       "    }\n",
       "\n",
       "    .dataframe thead th {\n",
       "        text-align: right;\n",
       "    }\n",
       "</style>\n",
       "<table border=\"1\" class=\"dataframe\">\n",
       "  <thead>\n",
       "    <tr style=\"text-align: right;\">\n",
       "      <th></th>\n",
       "      <th>Created Date</th>\n",
       "      <th>Twitter</th>\n",
       "      <th>Instagram</th>\n",
       "      <th>TikTok</th>\n",
       "      <th>Comment</th>\n",
       "    </tr>\n",
       "  </thead>\n",
       "  <tbody>\n",
       "    <tr>\n",
       "      <th>0</th>\n",
       "      <td>2023-04-19</td>\n",
       "      <td>19</td>\n",
       "      <td>0</td>\n",
       "      <td>52</td>\n",
       "      <td>なにもしていない。</td>\n",
       "    </tr>\n",
       "    <tr>\n",
       "      <th>1</th>\n",
       "      <td>2023-04-20</td>\n",
       "      <td>20</td>\n",
       "      <td>0</td>\n",
       "      <td>52</td>\n",
       "      <td>jupyterのツイートした。</td>\n",
       "    </tr>\n",
       "  </tbody>\n",
       "</table>\n",
       "</div>"
      ],
      "text/plain": [
       "  Created Date Twitter Instagram TikTok          Comment\n",
       "0   2023-04-19      19         0     52        なにもしていない。\n",
       "1   2023-04-20      20         0     52  jupyterのツイートした。"
      ]
     },
     "metadata": {},
     "output_type": "display_data"
    }
   ],
   "source": [
    "import ipywidgets as widgets\n",
    "from IPython.display import display\n",
    "import datetime\n",
    "import csv\n",
    "import pandas as pd\n",
    "\n",
    "from modules.csv_utils import SocialRow, CsvHandler\n",
    "from modules.wigets import WidgetManager\n",
    "\n",
    "CSV_FILE_PATH = \"./data.csv\"\n",
    "\n",
    "def main() -> None:\n",
    "    csv_handler = CsvHandler(CSV_FILE_PATH, SocialRow.get_header())\n",
    "    wm = WidgetManager(csv_handler)\n",
    "    wm.show_widgets()\n",
    "\n",
    "\n",
    "main()"
   ]
  }
 ],
 "metadata": {
  "kernelspec": {
   "display_name": "base",
   "language": "python",
   "name": "python3"
  },
  "language_info": {
   "codemirror_mode": {
    "name": "ipython",
    "version": 3
   },
   "file_extension": ".py",
   "mimetype": "text/x-python",
   "name": "python",
   "nbconvert_exporter": "python",
   "pygments_lexer": "ipython3",
   "version": "3.9.12"
  },
  "orig_nbformat": 4
 },
 "nbformat": 4,
 "nbformat_minor": 2
}
